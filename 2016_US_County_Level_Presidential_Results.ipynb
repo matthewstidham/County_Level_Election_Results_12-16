{
 "cells": [
  {
   "cell_type": "code",
   "execution_count": 1,
   "metadata": {
    "collapsed": true
   },
   "outputs": [],
   "source": [
    "import pandas as pd\n",
    "import numpy as np\n",
    "from bs4 import BeautifulSoup\n",
    "import urllib\n",
    "from IPython.display import display, display_pretty, Javascript, HTML"
   ]
  },
  {
   "cell_type": "markdown",
   "metadata": {},
   "source": [
    "# Flow\n",
    "\n",
    "- [Download and preprocess county-level results](#Townhall-data)\n",
    "- [Downlaod and preprocess county-level metadata](#Census-data)\n",
    "- [Combine datasets](#Combine-data)\n",
    "- [Export county-level results](#Export-data)\n",
    "- [Visualize](#Visualize)"
   ]
  },
  {
   "cell_type": "markdown",
   "metadata": {},
   "source": [
    "## Townhall data"
   ]
  },
  {
   "cell_type": "code",
   "execution_count": 2,
   "metadata": {
    "collapsed": true
   },
   "outputs": [],
   "source": [
    "# each page has a summary table that rolls up results at the state level\n",
    "# get rid of it\n",
    "def cond(x):\n",
    "    if x:\n",
    "        return x.startswith(\"table ec-table\") and not \"table ec-table ec-table-summary\" in x\n",
    "    else:\n",
    "        return False"
   ]
  },
  {
   "cell_type": "code",
   "execution_count": 3,
   "metadata": {
    "collapsed": true
   },
   "outputs": [],
   "source": [
    "# list of state abbreviations\n",
    "states = ['AL','AK','AZ','AR','CA','CO','CT','DC','DE','FL','GA','HI','ID','IL','IN','IA','KS','KY','LA','ME','MD','MA','MI','MN','MS','MO','MT','NE','NV','NH','NJ','NM','NY','NC','ND','OH','OK','OR','PA','RI','SC','SD','TN','TX','UT','VT','VA','WA','WV','WI','WY']\n",
    "\n",
    "# headers for csv export\n",
    "data = [['state_abbr', 'county_name', 'party', 'votes_total']]"
   ]
  },
  {
   "cell_type": "code",
   "execution_count": 4,
   "metadata": {
    "collapsed": false,
    "scrolled": false
   },
   "outputs": [
    {
     "ename": "IOError",
     "evalue": "[Errno socket error] [Errno -2] Name or service not known",
     "output_type": "error",
     "traceback": [
      "\u001b[0;31m---------------------------------------------------------------------------\u001b[0m",
      "\u001b[0;31mIOError\u001b[0m                                   Traceback (most recent call last)",
      "\u001b[0;32m<ipython-input-4-6bfaeb30e626>\u001b[0m in \u001b[0;36m<module>\u001b[0;34m()\u001b[0m\n\u001b[1;32m      1\u001b[0m \u001b[0;31m# loop through each state's web page http://townhall.com/election/2016/president/%s/county, where %s is the state abbr\u001b[0m\u001b[0;34m\u001b[0m\u001b[0;34m\u001b[0m\u001b[0m\n\u001b[1;32m      2\u001b[0m \u001b[0;32mfor\u001b[0m \u001b[0mstate\u001b[0m \u001b[0;32min\u001b[0m \u001b[0mstates\u001b[0m\u001b[0;34m:\u001b[0m\u001b[0;34m\u001b[0m\u001b[0m\n\u001b[0;32m----> 3\u001b[0;31m     \u001b[0mr\u001b[0m \u001b[0;34m=\u001b[0m \u001b[0murllib\u001b[0m\u001b[0;34m.\u001b[0m\u001b[0murlopen\u001b[0m\u001b[0;34m(\u001b[0m\u001b[0;34m'http://townhall.com/election/2016/president/'\u001b[0m \u001b[0;34m+\u001b[0m \u001b[0mstate\u001b[0m \u001b[0;34m+\u001b[0m \u001b[0;34m'/county'\u001b[0m\u001b[0;34m)\u001b[0m\u001b[0;34m.\u001b[0m\u001b[0mread\u001b[0m\u001b[0;34m(\u001b[0m\u001b[0;34m)\u001b[0m\u001b[0;34m\u001b[0m\u001b[0m\n\u001b[0m\u001b[1;32m      4\u001b[0m     \u001b[0msoup\u001b[0m \u001b[0;34m=\u001b[0m \u001b[0mBeautifulSoup\u001b[0m\u001b[0;34m(\u001b[0m\u001b[0mr\u001b[0m\u001b[0;34m,\u001b[0m \u001b[0;34m\"html.parser\"\u001b[0m\u001b[0;34m)\u001b[0m\u001b[0;34m\u001b[0m\u001b[0m\n\u001b[1;32m      5\u001b[0m \u001b[0;34m\u001b[0m\u001b[0m\n",
      "\u001b[0;32m/home/matthew/anaconda2/lib/python2.7/urllib.pyc\u001b[0m in \u001b[0;36murlopen\u001b[0;34m(url, data, proxies, context)\u001b[0m\n\u001b[1;32m     85\u001b[0m         \u001b[0mopener\u001b[0m \u001b[0;34m=\u001b[0m \u001b[0m_urlopener\u001b[0m\u001b[0;34m\u001b[0m\u001b[0m\n\u001b[1;32m     86\u001b[0m     \u001b[0;32mif\u001b[0m \u001b[0mdata\u001b[0m \u001b[0;32mis\u001b[0m \u001b[0mNone\u001b[0m\u001b[0;34m:\u001b[0m\u001b[0;34m\u001b[0m\u001b[0m\n\u001b[0;32m---> 87\u001b[0;31m         \u001b[0;32mreturn\u001b[0m \u001b[0mopener\u001b[0m\u001b[0;34m.\u001b[0m\u001b[0mopen\u001b[0m\u001b[0;34m(\u001b[0m\u001b[0murl\u001b[0m\u001b[0;34m)\u001b[0m\u001b[0;34m\u001b[0m\u001b[0m\n\u001b[0m\u001b[1;32m     88\u001b[0m     \u001b[0;32melse\u001b[0m\u001b[0;34m:\u001b[0m\u001b[0;34m\u001b[0m\u001b[0m\n\u001b[1;32m     89\u001b[0m         \u001b[0;32mreturn\u001b[0m \u001b[0mopener\u001b[0m\u001b[0;34m.\u001b[0m\u001b[0mopen\u001b[0m\u001b[0;34m(\u001b[0m\u001b[0murl\u001b[0m\u001b[0;34m,\u001b[0m \u001b[0mdata\u001b[0m\u001b[0;34m)\u001b[0m\u001b[0;34m\u001b[0m\u001b[0m\n",
      "\u001b[0;32m/home/matthew/anaconda2/lib/python2.7/urllib.pyc\u001b[0m in \u001b[0;36mopen\u001b[0;34m(self, fullurl, data)\u001b[0m\n\u001b[1;32m    211\u001b[0m         \u001b[0;32mtry\u001b[0m\u001b[0;34m:\u001b[0m\u001b[0;34m\u001b[0m\u001b[0m\n\u001b[1;32m    212\u001b[0m             \u001b[0;32mif\u001b[0m \u001b[0mdata\u001b[0m \u001b[0;32mis\u001b[0m \u001b[0mNone\u001b[0m\u001b[0;34m:\u001b[0m\u001b[0;34m\u001b[0m\u001b[0m\n\u001b[0;32m--> 213\u001b[0;31m                 \u001b[0;32mreturn\u001b[0m \u001b[0mgetattr\u001b[0m\u001b[0;34m(\u001b[0m\u001b[0mself\u001b[0m\u001b[0;34m,\u001b[0m \u001b[0mname\u001b[0m\u001b[0;34m)\u001b[0m\u001b[0;34m(\u001b[0m\u001b[0murl\u001b[0m\u001b[0;34m)\u001b[0m\u001b[0;34m\u001b[0m\u001b[0m\n\u001b[0m\u001b[1;32m    214\u001b[0m             \u001b[0;32melse\u001b[0m\u001b[0;34m:\u001b[0m\u001b[0;34m\u001b[0m\u001b[0m\n\u001b[1;32m    215\u001b[0m                 \u001b[0;32mreturn\u001b[0m \u001b[0mgetattr\u001b[0m\u001b[0;34m(\u001b[0m\u001b[0mself\u001b[0m\u001b[0;34m,\u001b[0m \u001b[0mname\u001b[0m\u001b[0;34m)\u001b[0m\u001b[0;34m(\u001b[0m\u001b[0murl\u001b[0m\u001b[0;34m,\u001b[0m \u001b[0mdata\u001b[0m\u001b[0;34m)\u001b[0m\u001b[0;34m\u001b[0m\u001b[0m\n",
      "\u001b[0;32m/home/matthew/anaconda2/lib/python2.7/urllib.pyc\u001b[0m in \u001b[0;36mopen_http\u001b[0;34m(self, url, data)\u001b[0m\n\u001b[1;32m    348\u001b[0m         \u001b[0;32mif\u001b[0m \u001b[0mrealhost\u001b[0m\u001b[0;34m:\u001b[0m \u001b[0mh\u001b[0m\u001b[0;34m.\u001b[0m\u001b[0mputheader\u001b[0m\u001b[0;34m(\u001b[0m\u001b[0;34m'Host'\u001b[0m\u001b[0;34m,\u001b[0m \u001b[0mrealhost\u001b[0m\u001b[0;34m)\u001b[0m\u001b[0;34m\u001b[0m\u001b[0m\n\u001b[1;32m    349\u001b[0m         \u001b[0;32mfor\u001b[0m \u001b[0margs\u001b[0m \u001b[0;32min\u001b[0m \u001b[0mself\u001b[0m\u001b[0;34m.\u001b[0m\u001b[0maddheaders\u001b[0m\u001b[0;34m:\u001b[0m \u001b[0mh\u001b[0m\u001b[0;34m.\u001b[0m\u001b[0mputheader\u001b[0m\u001b[0;34m(\u001b[0m\u001b[0;34m*\u001b[0m\u001b[0margs\u001b[0m\u001b[0;34m)\u001b[0m\u001b[0;34m\u001b[0m\u001b[0m\n\u001b[0;32m--> 350\u001b[0;31m         \u001b[0mh\u001b[0m\u001b[0;34m.\u001b[0m\u001b[0mendheaders\u001b[0m\u001b[0;34m(\u001b[0m\u001b[0mdata\u001b[0m\u001b[0;34m)\u001b[0m\u001b[0;34m\u001b[0m\u001b[0m\n\u001b[0m\u001b[1;32m    351\u001b[0m         \u001b[0merrcode\u001b[0m\u001b[0;34m,\u001b[0m \u001b[0merrmsg\u001b[0m\u001b[0;34m,\u001b[0m \u001b[0mheaders\u001b[0m \u001b[0;34m=\u001b[0m \u001b[0mh\u001b[0m\u001b[0;34m.\u001b[0m\u001b[0mgetreply\u001b[0m\u001b[0;34m(\u001b[0m\u001b[0;34m)\u001b[0m\u001b[0;34m\u001b[0m\u001b[0m\n\u001b[1;32m    352\u001b[0m         \u001b[0mfp\u001b[0m \u001b[0;34m=\u001b[0m \u001b[0mh\u001b[0m\u001b[0;34m.\u001b[0m\u001b[0mgetfile\u001b[0m\u001b[0;34m(\u001b[0m\u001b[0;34m)\u001b[0m\u001b[0;34m\u001b[0m\u001b[0m\n",
      "\u001b[0;32m/home/matthew/anaconda2/lib/python2.7/httplib.pyc\u001b[0m in \u001b[0;36mendheaders\u001b[0;34m(self, message_body)\u001b[0m\n\u001b[1;32m   1036\u001b[0m         \u001b[0;32melse\u001b[0m\u001b[0;34m:\u001b[0m\u001b[0;34m\u001b[0m\u001b[0m\n\u001b[1;32m   1037\u001b[0m             \u001b[0;32mraise\u001b[0m \u001b[0mCannotSendHeader\u001b[0m\u001b[0;34m(\u001b[0m\u001b[0;34m)\u001b[0m\u001b[0;34m\u001b[0m\u001b[0m\n\u001b[0;32m-> 1038\u001b[0;31m         \u001b[0mself\u001b[0m\u001b[0;34m.\u001b[0m\u001b[0m_send_output\u001b[0m\u001b[0;34m(\u001b[0m\u001b[0mmessage_body\u001b[0m\u001b[0;34m)\u001b[0m\u001b[0;34m\u001b[0m\u001b[0m\n\u001b[0m\u001b[1;32m   1039\u001b[0m \u001b[0;34m\u001b[0m\u001b[0m\n\u001b[1;32m   1040\u001b[0m     \u001b[0;32mdef\u001b[0m \u001b[0mrequest\u001b[0m\u001b[0;34m(\u001b[0m\u001b[0mself\u001b[0m\u001b[0;34m,\u001b[0m \u001b[0mmethod\u001b[0m\u001b[0;34m,\u001b[0m \u001b[0murl\u001b[0m\u001b[0;34m,\u001b[0m \u001b[0mbody\u001b[0m\u001b[0;34m=\u001b[0m\u001b[0mNone\u001b[0m\u001b[0;34m,\u001b[0m \u001b[0mheaders\u001b[0m\u001b[0;34m=\u001b[0m\u001b[0;34m{\u001b[0m\u001b[0;34m}\u001b[0m\u001b[0;34m)\u001b[0m\u001b[0;34m:\u001b[0m\u001b[0;34m\u001b[0m\u001b[0m\n",
      "\u001b[0;32m/home/matthew/anaconda2/lib/python2.7/httplib.pyc\u001b[0m in \u001b[0;36m_send_output\u001b[0;34m(self, message_body)\u001b[0m\n\u001b[1;32m    880\u001b[0m             \u001b[0mmsg\u001b[0m \u001b[0;34m+=\u001b[0m \u001b[0mmessage_body\u001b[0m\u001b[0;34m\u001b[0m\u001b[0m\n\u001b[1;32m    881\u001b[0m             \u001b[0mmessage_body\u001b[0m \u001b[0;34m=\u001b[0m \u001b[0mNone\u001b[0m\u001b[0;34m\u001b[0m\u001b[0m\n\u001b[0;32m--> 882\u001b[0;31m         \u001b[0mself\u001b[0m\u001b[0;34m.\u001b[0m\u001b[0msend\u001b[0m\u001b[0;34m(\u001b[0m\u001b[0mmsg\u001b[0m\u001b[0;34m)\u001b[0m\u001b[0;34m\u001b[0m\u001b[0m\n\u001b[0m\u001b[1;32m    883\u001b[0m         \u001b[0;32mif\u001b[0m \u001b[0mmessage_body\u001b[0m \u001b[0;32mis\u001b[0m \u001b[0;32mnot\u001b[0m \u001b[0mNone\u001b[0m\u001b[0;34m:\u001b[0m\u001b[0;34m\u001b[0m\u001b[0m\n\u001b[1;32m    884\u001b[0m             \u001b[0;31m#message_body was not a string (i.e. it is a file) and\u001b[0m\u001b[0;34m\u001b[0m\u001b[0;34m\u001b[0m\u001b[0m\n",
      "\u001b[0;32m/home/matthew/anaconda2/lib/python2.7/httplib.pyc\u001b[0m in \u001b[0;36msend\u001b[0;34m(self, data)\u001b[0m\n\u001b[1;32m    842\u001b[0m         \u001b[0;32mif\u001b[0m \u001b[0mself\u001b[0m\u001b[0;34m.\u001b[0m\u001b[0msock\u001b[0m \u001b[0;32mis\u001b[0m \u001b[0mNone\u001b[0m\u001b[0;34m:\u001b[0m\u001b[0;34m\u001b[0m\u001b[0m\n\u001b[1;32m    843\u001b[0m             \u001b[0;32mif\u001b[0m \u001b[0mself\u001b[0m\u001b[0;34m.\u001b[0m\u001b[0mauto_open\u001b[0m\u001b[0;34m:\u001b[0m\u001b[0;34m\u001b[0m\u001b[0m\n\u001b[0;32m--> 844\u001b[0;31m                 \u001b[0mself\u001b[0m\u001b[0;34m.\u001b[0m\u001b[0mconnect\u001b[0m\u001b[0;34m(\u001b[0m\u001b[0;34m)\u001b[0m\u001b[0;34m\u001b[0m\u001b[0m\n\u001b[0m\u001b[1;32m    845\u001b[0m             \u001b[0;32melse\u001b[0m\u001b[0;34m:\u001b[0m\u001b[0;34m\u001b[0m\u001b[0m\n\u001b[1;32m    846\u001b[0m                 \u001b[0;32mraise\u001b[0m \u001b[0mNotConnected\u001b[0m\u001b[0;34m(\u001b[0m\u001b[0;34m)\u001b[0m\u001b[0;34m\u001b[0m\u001b[0m\n",
      "\u001b[0;32m/home/matthew/anaconda2/lib/python2.7/httplib.pyc\u001b[0m in \u001b[0;36mconnect\u001b[0;34m(self)\u001b[0m\n\u001b[1;32m    819\u001b[0m         \u001b[0;34m\"\"\"Connect to the host and port specified in __init__.\"\"\"\u001b[0m\u001b[0;34m\u001b[0m\u001b[0m\n\u001b[1;32m    820\u001b[0m         self.sock = self._create_connection((self.host,self.port),\n\u001b[0;32m--> 821\u001b[0;31m                                            self.timeout, self.source_address)\n\u001b[0m\u001b[1;32m    822\u001b[0m \u001b[0;34m\u001b[0m\u001b[0m\n\u001b[1;32m    823\u001b[0m         \u001b[0;32mif\u001b[0m \u001b[0mself\u001b[0m\u001b[0;34m.\u001b[0m\u001b[0m_tunnel_host\u001b[0m\u001b[0;34m:\u001b[0m\u001b[0;34m\u001b[0m\u001b[0m\n",
      "\u001b[0;32m/home/matthew/anaconda2/lib/python2.7/socket.pyc\u001b[0m in \u001b[0;36mcreate_connection\u001b[0;34m(address, timeout, source_address)\u001b[0m\n\u001b[1;32m    555\u001b[0m     \u001b[0mhost\u001b[0m\u001b[0;34m,\u001b[0m \u001b[0mport\u001b[0m \u001b[0;34m=\u001b[0m \u001b[0maddress\u001b[0m\u001b[0;34m\u001b[0m\u001b[0m\n\u001b[1;32m    556\u001b[0m     \u001b[0merr\u001b[0m \u001b[0;34m=\u001b[0m \u001b[0mNone\u001b[0m\u001b[0;34m\u001b[0m\u001b[0m\n\u001b[0;32m--> 557\u001b[0;31m     \u001b[0;32mfor\u001b[0m \u001b[0mres\u001b[0m \u001b[0;32min\u001b[0m \u001b[0mgetaddrinfo\u001b[0m\u001b[0;34m(\u001b[0m\u001b[0mhost\u001b[0m\u001b[0;34m,\u001b[0m \u001b[0mport\u001b[0m\u001b[0;34m,\u001b[0m \u001b[0;36m0\u001b[0m\u001b[0;34m,\u001b[0m \u001b[0mSOCK_STREAM\u001b[0m\u001b[0;34m)\u001b[0m\u001b[0;34m:\u001b[0m\u001b[0;34m\u001b[0m\u001b[0m\n\u001b[0m\u001b[1;32m    558\u001b[0m         \u001b[0maf\u001b[0m\u001b[0;34m,\u001b[0m \u001b[0msocktype\u001b[0m\u001b[0;34m,\u001b[0m \u001b[0mproto\u001b[0m\u001b[0;34m,\u001b[0m \u001b[0mcanonname\u001b[0m\u001b[0;34m,\u001b[0m \u001b[0msa\u001b[0m \u001b[0;34m=\u001b[0m \u001b[0mres\u001b[0m\u001b[0;34m\u001b[0m\u001b[0m\n\u001b[1;32m    559\u001b[0m         \u001b[0msock\u001b[0m \u001b[0;34m=\u001b[0m \u001b[0mNone\u001b[0m\u001b[0;34m\u001b[0m\u001b[0m\n",
      "\u001b[0;31mIOError\u001b[0m: [Errno socket error] [Errno -2] Name or service not known"
     ]
    }
   ],
   "source": [
    "# loop through each state's web page http://townhall.com/election/2016/president/%s/county, where %s is the state abbr\n",
    "for state in states:\n",
    "    r = urllib.urlopen('http://townhall.com/election/2016/president/' + state + '/county').read()\n",
    "    soup = BeautifulSoup(r, \"html.parser\")\n",
    "\n",
    "    # loop through each <table> tag with .ec-table class\n",
    "    tables = soup.findAll('table', attrs={'class':cond})\n",
    "\n",
    "    for table in tables:\n",
    "        if table.findParent(\"table\") is None:\n",
    "            table_body = table.find('tbody')\n",
    "\n",
    "            rows = table_body.find_all('tr')\n",
    "            for row in rows:\n",
    "                cols = row.find_all('td')\n",
    "                # first tbody tr has four td\n",
    "                if len(cols) == 4:\n",
    "                    # strip text from each td\n",
    "                    divs = cols[0].find_all('div')\n",
    "                    county = divs[0].text.strip()\n",
    "                    party = cols[1]['class'][0]\n",
    "                    total_votes = int(cols[2].text.strip().replace(',','').replace('-','0'))\n",
    "                # all other tbody tr have three td\n",
    "                else:\n",
    "                    party = cols[1]['class'][0]\n",
    "                    total_votes = int(cols[1].text.strip().replace(',','').replace('-','0'))\n",
    "                    \n",
    "                #combine each row's results\n",
    "                rowData = [state,county,party,total_votes]\n",
    "                data.append(rowData)"
   ]
  },
  {
   "cell_type": "code",
   "execution_count": null,
   "metadata": {
    "collapsed": false
   },
   "outputs": [],
   "source": [
    "townhall = pd.DataFrame(data) # throw results in dataframe\n",
    "new_header = townhall.iloc[0] #grab the first row for the header\n",
    "townhall = townhall[1:] #take the data less the header row\n",
    "townhall.columns = new_header #set the header row as the df header\n",
    "townhall['votes_total'] = townhall['votes_total'].astype('float64')\n",
    "print(townhall.shape[0])\n",
    "townhall.head()"
   ]
  },
  {
   "cell_type": "code",
   "execution_count": null,
   "metadata": {
    "collapsed": false
   },
   "outputs": [],
   "source": [
    "# view by state\n",
    "townhall[(townhall['state_abbr'] == 'AK')]"
   ]
  },
  {
   "cell_type": "code",
   "execution_count": null,
   "metadata": {
    "collapsed": false
   },
   "outputs": [],
   "source": [
    "# view special cases\n",
    "print(townhall[(townhall['state_abbr'] == 'NV') & (townhall['county_name'] == 'Carson City')])"
   ]
  },
  {
   "cell_type": "code",
   "execution_count": null,
   "metadata": {
    "collapsed": false
   },
   "outputs": [],
   "source": [
    "# fix townhall county name for Washington DC, Sainte Genevieve, MO, Oglala, SD\n",
    "townhall.loc[townhall['state_abbr'] =='DC', 'county_name'] = 'District of Columbia'\n",
    "townhall.loc[townhall['county_name'] == 'Sainte Genevieve', 'county_name'] = 'Ste. Genevieve County'\n",
    "townhall.loc[townhall['county_name'] == 'Oglala Lakota', 'county_name'] = 'Oglala'\n",
    "print(townhall[(townhall['county_name'] == 'District of Columbia') | (townhall['county_name'] == 'Ste. Genevieve County') | (townhall['county_name'] == 'Oglala')])"
   ]
  },
  {
   "cell_type": "code",
   "execution_count": null,
   "metadata": {
    "collapsed": false
   },
   "outputs": [],
   "source": [
    "# change 'Co.' to 'County' in county_name to match census county name\n",
    "townhall['county_name'] = townhall['county_name'].apply(lambda x: x.replace('Co.','County').strip())\n",
    "print(townhall[(townhall['state_abbr'] == 'NV') & (townhall['county_name'] == 'Carson City')])"
   ]
  },
  {
   "cell_type": "code",
   "execution_count": null,
   "metadata": {
    "collapsed": false
   },
   "outputs": [],
   "source": [
    "# combine state and county names\n",
    "townhall['combined'] = townhall['state_abbr'] + townhall['county_name'].apply(lambda x: x.replace(' ','').lower())\n",
    "print(townhall[(townhall['state_abbr'] == 'NV') & (townhall['county_name'] == 'Carson City')])"
   ]
  },
  {
   "cell_type": "markdown",
   "metadata": {},
   "source": [
    "## Census data"
   ]
  },
  {
   "cell_type": "code",
   "execution_count": null,
   "metadata": {
    "collapsed": false
   },
   "outputs": [],
   "source": [
    "# county_fips data from https://www.census.gov/geo/reference/codes/cou.html\n",
    "census = pd.read_csv('http://www2.census.gov/geo/docs/reference/codes/files/national_county.txt',sep=',',header=None, dtype=str)\n",
    "census.columns = ['state_abbr', 'state_fips', 'county_fips', 'county_name', 'fips_class_code']\n",
    "print(census.shape)\n",
    "census.head()"
   ]
  },
  {
   "cell_type": "code",
   "execution_count": null,
   "metadata": {
    "collapsed": false
   },
   "outputs": [],
   "source": [
    "# view by state\n",
    "ak_counties = census[(census['state_abbr'] == 'AK')].shape[0]\n",
    "print(ak_counties)\n",
    "census[(census['state_abbr'] == 'AK')]"
   ]
  },
  {
   "cell_type": "code",
   "execution_count": null,
   "metadata": {
    "collapsed": false
   },
   "outputs": [],
   "source": [
    "# veiw special cases\n",
    "print(census[(census['state_abbr'] == 'NV') & (census['county_name'] == 'Carson City')])"
   ]
  },
  {
   "cell_type": "code",
   "execution_count": null,
   "metadata": {
    "collapsed": false
   },
   "outputs": [],
   "source": [
    "# change Shannon County, SD to Oglala County, SD\n",
    "# http://rapidcityjournal.com/news/local/it-s-official-oglala-lakota-county-replaces-shannon-county-name/article_ac5c2369-3fea-5f94-9898-b007b7ddf22c.html\n",
    "# townhall.loc[townhall['county_name'] == 'Sainte Genevieve', 'county_name'] = 'Ste. Genevieve County'\n",
    "census.loc[(census['county_name'] == 'Shannon County') & (census['state_abbr'] == 'SD'), 'county_name'] = 'Oglala County'\n",
    "census[(census['state_abbr'] == 'SD')]"
   ]
  },
  {
   "cell_type": "code",
   "execution_count": null,
   "metadata": {
    "collapsed": true
   },
   "outputs": [],
   "source": [
    "# state of Alaska reports results at the precinct and state level; no county level data available\n",
    "# report results as the states level; \n",
    "# ugly fix to get townhall results and census counties to work together\n",
    "# future plan: roll up precinct-level results to the county level\n",
    "census.loc[(census['state_abbr'] == 'AK'),'county_name'] = 'Alaska'"
   ]
  },
  {
   "cell_type": "code",
   "execution_count": null,
   "metadata": {
    "collapsed": false
   },
   "outputs": [],
   "source": [
    "# change county_name values in townhall data to match 'county_name' values for C7 fips class code cities\n",
    "# get and transform C7 city names\n",
    "cities = (census['state_abbr'][(census['fips_class_code'] == 'C7')] + census['county_name'][(census['fips_class_code'] == 'C7')].apply(lambda x: x.replace('city','').replace(' ','').lower()))\n",
    "cities"
   ]
  },
  {
   "cell_type": "code",
   "execution_count": null,
   "metadata": {
    "collapsed": false
   },
   "outputs": [],
   "source": [
    "# loop through 'combined' column and compare to cities series to add 'city' to H1 fips class code to townhall data\n",
    "for i, row in cities.iteritems():\n",
    "    if row <> 'NVcarsoncity':\n",
    "        townhall.loc[townhall['combined'] == row, 'combined'] = row + 'city'\n",
    "    \n",
    "print(townhall[(townhall['combined'] == 'NVcarsoncity')])"
   ]
  },
  {
   "cell_type": "code",
   "execution_count": null,
   "metadata": {
    "collapsed": false
   },
   "outputs": [],
   "source": [
    "# remove 'county' from 'combined' column of C7 fips class code counties in townhall\n",
    "townhall['combined'] = townhall['combined'].str.replace('county','')\n",
    "print(townhall[(townhall['county_name'] == 'Oglala')])"
   ]
  },
  {
   "cell_type": "code",
   "execution_count": null,
   "metadata": {
    "collapsed": false,
    "scrolled": false
   },
   "outputs": [],
   "source": [
    "census['combined'] = census['state_abbr'] + census['county_name'].apply(lambda x: x.replace('County','').replace('Parish','').replace(' ','').lower())\n",
    "print(census[(census['state_abbr'] == 'NV') & (census['county_name'] == 'Carson City')])\n",
    "# print(census[(census['state_abbr'] == 'VA') & (census['county_name'] == 'Bedford County')])"
   ]
  },
  {
   "cell_type": "code",
   "execution_count": null,
   "metadata": {
    "collapsed": false
   },
   "outputs": [],
   "source": [
    "# return sum of votes by state and county\n",
    "townhall['total_votes'] = townhall['votes_total'].groupby(townhall['combined']).transform('sum')\n",
    "townhall_counties = townhall.drop('votes_total',axis=1)\n",
    "\n",
    "# view dataset by selected state\n",
    "print(townhall_counties[(townhall_counties['state_abbr'] == 'NV') & (townhall_counties['county_name'] == 'Carson City')])"
   ]
  },
  {
   "cell_type": "markdown",
   "metadata": {},
   "source": [
    "## Combine data"
   ]
  },
  {
   "cell_type": "code",
   "execution_count": null,
   "metadata": {
    "collapsed": false,
    "scrolled": false
   },
   "outputs": [],
   "source": [
    "# join census and townhall data on the 'combined' column\n",
    "right = townhall.set_index('combined')\n",
    "left = census.set_index('combined')\n",
    "\n",
    "combined = left.join(right, lsuffix='', rsuffix='_r')\n",
    "combined = combined.reset_index()\n",
    "print('Joined dataset has ' + str(combined.shape[0]) + ' items')\n",
    "\n",
    "# view data by selected state\n",
    "combined[(combined['state_abbr'] == 'NV') & (combined['fips_class_code'] == 'C7')]"
   ]
  },
  {
   "cell_type": "code",
   "execution_count": null,
   "metadata": {
    "collapsed": false
   },
   "outputs": [],
   "source": [
    "# scale Alaska by number of counties\n",
    "combined.loc[(combined['state_abbr'] == 'AK'),'votes_total'] = (combined['votes_total'][combined['state_abbr'] == 'AK']/ak_counties).astype(int)\n",
    "combined[combined['state_abbr'] == 'AK']"
   ]
  },
  {
   "cell_type": "code",
   "execution_count": null,
   "metadata": {
    "collapsed": false,
    "scrolled": false
   },
   "outputs": [],
   "source": [
    "# return unique dataset\n",
    "county_level_combined = combined.drop_duplicates()\n",
    "print('Combined dataset has ' + str(county_level_combined.shape[0]) + ' total items')\n",
    "                                                   \n",
    "# return only D and R results\n",
    "county_level_combined = county_level_combined[(county_level_combined['party'] == 'GOP') | (county_level_combined['party'] == 'DEM')]\n",
    "print('Filtered dataset has ' + str(county_level_combined.shape[0]) + ' D and R items')\n",
    "\n",
    "# flatten dataset by adding votes by R and D columns\n",
    "county_level_combined['votes_dem'] = county_level_combined['votes_total'].where(county_level_combined['party'] == 'DEM',0).astype('float32')\n",
    "county_level_combined['votes_gop'] = county_level_combined['votes_total'].where(county_level_combined['party'] == 'GOP',0).astype('float32')\n",
    "\n",
    "# drop party and party-level totals and other columns\n",
    "county_level_combined.drop(['party','votes_total','state_abbr_r','county_name_r'], axis=1, inplace=True)\n",
    "# total_results = county_level_combined.drop(['party','votes_total','fips_class_code','state_abbr_r','county_name_r', 'votes_dem', 'votes_gop'], axis=1, inplace=True)\n",
    "county_level_combined[(county_level_combined['state_abbr'] == 'NV') & (county_level_combined['fips_class_code'] == 'C7')]"
   ]
  },
  {
   "cell_type": "code",
   "execution_count": null,
   "metadata": {
    "collapsed": false,
    "scrolled": true
   },
   "outputs": [],
   "source": [
    "# pivot data to consolidate\n",
    "party_pivot = pd.pivot_table(county_level_combined,index=[\"combined\"],values=[\"votes_dem\",\"votes_gop\"],aggfunc=np.sum)\n",
    "total_pivot = pd.pivot_table(county_level_combined,index=[\"combined\"],values=[\"total_votes\"],aggfunc=np.mean)\n",
    "\n",
    "# join party and total pivots\n",
    "combined_pivot = party_pivot.join(total_pivot, lsuffix='', rsuffix='_r')\n",
    "print('Joined dataset has ' + str(combined_pivot.shape[0]) + ' items')\n",
    "combined_pivot\n",
    "\n",
    "# add percentages for each R and D of total votes\n",
    "# calculate percentage of total vote per major candidates\n",
    "combined_pivot['per_dem'] = combined_pivot['votes_dem'] / combined_pivot['total_votes']\n",
    "combined_pivot['per_gop'] = combined_pivot['votes_gop'] / combined_pivot['total_votes']\n",
    "combined_pivot['diff'] = abs(combined_pivot['votes_gop'] - combined_pivot['votes_dem']).map('{:,.0f}'.format)\n",
    "combined_pivot['per_point_diff'] = abs(combined_pivot['per_dem'] - combined_pivot['per_gop']).map('{:,.2%}'.format)\n",
    "\n",
    "combined_pivot\n",
    "\n",
    "# join pivotted and unpivotted data\n",
    "right = census.set_index('combined')\n",
    "# left = combined_pivot.set_index('combined')\n",
    "\n",
    "county_level_final = combined_pivot.join(right, lsuffix='', rsuffix='_r')\n",
    "county_level_final = county_level_final.reset_index()\n",
    "print('Joined dataset has ' + str(county_level_final.shape[0]) + ' items')\n",
    "county_level_final\n",
    "\n",
    "# create FIPS columns for visualizations\n",
    "county_level_final['combined_fips'] = county_level_final['state_fips'].apply(lambda x: x.lstrip('0')) + county_level_final['county_fips']\n",
    "county_level_final\n",
    "\n",
    "# drop irrelevant columns\n",
    "county_level_final = county_level_final.drop(['combined','county_fips','state_fips','fips_class_code'], axis=1)\n",
    "print('Final dataset has ' + str(county_level_final.shape[0]) + ' items')\n",
    "county_level_final\n",
    "\n",
    "# view data by selected state\n",
    "county_level_final[(county_level_final['state_abbr'] == 'AK')]"
   ]
  },
  {
   "cell_type": "markdown",
   "metadata": {},
   "source": [
    "## Export data"
   ]
  },
  {
   "cell_type": "code",
   "execution_count": null,
   "metadata": {
    "collapsed": false,
    "scrolled": true
   },
   "outputs": [],
   "source": [
    "county_level_final.to_csv('2016_US_County_Level_Presidential_Results.csv',sep=',')"
   ]
  },
  {
   "cell_type": "markdown",
   "metadata": {},
   "source": [
    "## Visualize"
   ]
  },
  {
   "cell_type": "code",
   "execution_count": null,
   "metadata": {
    "collapsed": false
   },
   "outputs": [],
   "source": [
    "%%javascript\n",
    "// https://github.com/d3/d3/issues/1693#issuecomment-35556356\n",
    "require.config({\n",
    "    paths: {\n",
    "        \"d3\": \"http://d3js.org/d3.v4\",\n",
    "        \"d3scalechoromatic\": \"http://d3js.org/d3-scale-chromatic.v1.min\",\n",
    "        \"topojson\": \"http://d3js.org/topojson.v1.min\",\n",
    "        \"d3legend\":\"https://cdnjs.cloudflare.com/ajax/libs/d3-legend/2.11.0/d3-legend.min\"\n",
    "  },\n",
    "    shim: {\n",
    "        \"d3scalechoromatic\": [\"d3.global\"],\n",
    "        \"d3-interpolate\":[\"d3.global\"]\n",
    "  }\n",
    "});\n",
    "\n",
    "define(\"d3.global\", [\"d3\"], function(_) {\n",
    "  this.d3 = _;\n",
    "});"
   ]
  },
  {
   "cell_type": "code",
   "execution_count": null,
   "metadata": {
    "collapsed": false,
    "scrolled": true
   },
   "outputs": [],
   "source": [
    "display(HTML(\"\"\"\n",
    "<style>\n",
    "  .tract {\n",
    "    stroke: #777;\n",
    "    stroke-width: 0.05px;\n",
    "    pointer-events: all;\n",
    "  }\n",
    "  .tract:hover {\n",
    "    stroke: orange;\n",
    "    pointer-events: all;\n",
    "\n",
    "  }\n",
    "  .tract-border {\n",
    "    fill: none;\n",
    "    /*stroke: #777;*/\n",
    "    stroke-width: 0.05px;\n",
    "    pointer-events: none;\n",
    "  }\n",
    "  @media (max-width: 767px) {\n",
    "    .label {\n",
    "      transform: rotate(-45deg) translate(-10px, 25px);\n",
    "    }\n",
    "  }\n",
    "  .tract-border-state {\n",
    "    fill: none;\n",
    "    stroke: #333;\n",
    "    stroke-width: 0.5px;\n",
    "    pointer-events: none;\n",
    "  }\n",
    "  .legend {\n",
    "    font-family: sans-serif;\n",
    "    font-size: 10pt;\n",
    "\n",
    "  }\n",
    "  .legendTitle {\n",
    "    font-weight: bold;\n",
    "    font-size:11pt;\n",
    "  }\n",
    "  .background {\n",
    "    fill:#f5f5f5;\n",
    "  }\n",
    "  body {\n",
    "    background: #f5f5f5;\n",
    "    /*font-family: sans-serif;*/\n",
    "  }\n",
    "  .bar {\n",
    "    font-family: sans-serif;\n",
    "    font-size: 8pt;\n",
    "  }\n",
    "  #cityLegend {\n",
    "    font-family: sans-serif;\n",
    "    text-anchor: middle;\n",
    "  }\n",
    "  #details .background {\n",
    "    fill: #f5f5f5;\n",
    "    fill-opacity: 0.7;\n",
    "  }\n",
    "  svg {\n",
    "    width:100%;\n",
    "  }\n",
    "</style>\n",
    "<div class=\"row\">\n",
    "  <div class=\"col-md-1 col-xs-1\"></div>\n",
    "  <div class=\"col-md-10 col-xs-10\">\n",
    "    <h2>2016 Presidential General Election Results by County</h2>\n",
    "    <h4>Click on the map to explore</h4>\n",
    "  </div>\n",
    "</div>\n",
    "<div class=\"row\">\n",
    "  <div class=\"col-md-12 col-xs-12\">\n",
    "    <svg ></svg>\n",
    "  </div>\n",
    "</div>\n",
    "<div class=\"row\">\n",
    "  <div class=\"col-md-1 col-xs-1\"></div>\n",
    "  <div class=\"col-md-10 col-xs-10\">\n",
    "    <p>\n",
    "      By <a href=\"http://johnguerra.co\">John Alexis Guerra Gómez</a>\n",
    "    </p>\n",
    "\n",
    "  </div> <!-- col-md-10 -->\n",
    "  <div class=\"col-md-1\">\n",
    "  </div>\n",
    "\n",
    "</div> <!-- .row -->\n",
    "\"\"\"))"
   ]
  },
  {
   "cell_type": "code",
   "execution_count": null,
   "metadata": {
    "collapsed": false
   },
   "outputs": [],
   "source": [
    "%%javascript\n",
    "\n",
    "require([\"d3\", \"topojson\"], function(d3, topojson) {\n",
    "    var svg = d3.select(\"svg\"),\n",
    "    width = $(document).width() * 10 / 12,\n",
    "    height = $(document).height() - 200,\n",
    "    margin = {\n",
    "        top: 20,\n",
    "        bottom: width > 767 ? 20 : 100,\n",
    "        right: 20,\n",
    "        left: 0\n",
    "    },\n",
    "    centered,\n",
    "    fmt = d3.format(\" >5.2%\"),\n",
    "    errorCount = 0;\n",
    "\n",
    "svg.attr(\"width\", width)\n",
    "    .attr(\"height\", height);\n",
    "\n",
    "function ready(error, us, data) {\n",
    "    if (error) throw error;\n",
    "\n",
    "\n",
    "    var dictCities = {};\n",
    "    data.forEach(function(d) {\n",
    "        //Parse the percentages\n",
    "        d[\"per_gop\"] = +(d[\"per_gop\"].slice(0, -1).replace(\",\", \".\"));\n",
    "        d[\"per_dem\"] = +(d[\"per_dem\"].slice(0, -1).replace(\",\", \".\"));\n",
    "        d.result = d[\"per_dem\"] - d[\"per_gop\"];\n",
    "        d.combined_fips = +d.combined_fips;\n",
    "        dictCities[d.combined_fips] = d;\n",
    "    });\n",
    "\n",
    "    var color = d3.scaleSequential(d3.interpolateRdBu)\n",
    "        .domain([-1, 1]);\n",
    "\n",
    "    // Add background\n",
    "    svg.append(\"rect\")\n",
    "        .attr(\"class\", \"background\")\n",
    "        .attr(\"width\", width)\n",
    "        .attr(\"height\", height)\n",
    "        // .on(\"click\", clicked);\n",
    "        // To allow the zoom back\n",
    "        // svg.on(\"click\", clicked);\n",
    "    var zoom = d3.zoom()\n",
    "        .scaleExtent([1, 15])\n",
    "        .on(\"zoom\", zoomed);\n",
    "\n",
    "    svg.style(\"pointer-events\", \"all\")\n",
    "        .call(zoom);\n",
    "    var g = svg.append(\"g\");\n",
    "\n",
    "    function zoomed() {\n",
    "        console.log(d3.event.transform);\n",
    "        g.attr(\"transform\", d3.event.transform);\n",
    "    };\n",
    "\n",
    "    var projection = d3.geoAlbersUsa()\n",
    "        .scale(1280)\n",
    "        .translate([width / 2, height / 2]);\n",
    "\n",
    "    var path = d3.geoPath()\n",
    "        .projection(projection);\n",
    "\n",
    "    g.selectAll(\"path\")\n",
    "        .data(topojson.feature(us, us.objects.counties).features)\n",
    "        .enter().append(\"path\")\n",
    "        .attr(\"class\", \"tract\")\n",
    "        .on(\"click\", clicked)\n",
    "        .on(\"mouseover\", updateDetails)\n",
    "        .style(\"fill\", function(d) {\n",
    "            var city = dictCities[d.id];\n",
    "            if (city)\n",
    "                return color(city.result);\n",
    "            else {\n",
    "                errorCount++;\n",
    "                console.log(d.id + \" Not found\" + \" errors = \" + errorCount);\n",
    "                return color(0);\n",
    "            }\n",
    "        })\n",
    "        .attr(\"d\", path)\n",
    "        .append(\"title\")\n",
    "        .text(function(d) {\n",
    "            var city = dictCities[d.id],\n",
    "                county,\n",
    "                state;\n",
    "                \n",
    "            // var msg = d.id;\n",
    "            if (city) {\n",
    "                county = city.county_name;\n",
    "                state = city.state_abbr;\n",
    "                var msg = county + ', ' + state + \" Difference: \" + fmt(city.result);\n",
    "            }\n",
    "            return msg;\n",
    "        });\n",
    "\n",
    "\n",
    "    // g.append(\"g\")\n",
    "    //     .attr(\"class\", \"counties\")\n",
    "    //   .selectAll(\"path\")\n",
    "    //     .data(topojson.feature(us, us.objects.counties).features)\n",
    "    //   .enter().append(\"path\")\n",
    "    //     .attr(\"class\", \"tract-border\")\n",
    "    //     .attr(\"d\", path);\n",
    "\n",
    "    g.append(\"path\")\n",
    "        .datum(topojson.mesh(us, us.objects.states, function(a, b) {\n",
    "            return a !== b;\n",
    "        }))\n",
    "        .attr(\"class\", \"tract-border-state\")\n",
    "        .attr(\"d\", path);\n",
    "\n",
    "\n",
    "    // g.append(\"path\")\n",
    "    //     .datum(topojson.mesh(mapData, mapData.objects.depts, function(a, b) { return a !== b; }))\n",
    "    //     .attr(\"class\", \"tract-border-state\")\n",
    "    //     .attr(\"d\", pathState);\n",
    "\n",
    "    // The details\n",
    "    var wScale = d3.scaleLinear()\n",
    "        .domain([-1, 1])\n",
    "        .range([-width / 3, width / 3]);\n",
    "    var details_layer = svg.append(\"g\")\n",
    "        .attr(\"id\", \"details\")\n",
    "        .attr(\"transform\", \"translate(\" + (width / 2 - 100) + \", 30)\");\n",
    "    details_layer.append(\"rect\")\n",
    "        .attr(\"class\", \"background\")\n",
    "        .attr(\"transform\", \"translate(\" + (-wScale.range()[1] + 100) + \", -20)\")\n",
    "        .attr(\"width\", wScale.range()[1] * 2 + 70)\n",
    "        .attr(\"rx\", 5)\n",
    "        .attr(\"ry\", 5)\n",
    "        .attr(\"height\", 60);\n",
    "    details_layer.append(\"text\")\n",
    "        .attr(\"id\", \"cityLegend\")\n",
    "        .text(\"Difference\")\n",
    "        .attr(\"transform\", \"translate(100, 0)\");\n",
    "\n",
    "    var detailsBars = details_layer.selectAll(\"bar\")\n",
    "        .data([0.4978, -0.5021])\n",
    "        .enter()\n",
    "        .append(\"g\")\n",
    "        .attr(\"class\", \"bar\");\n",
    "    detailsBars\n",
    "        .append(\"rect\")\n",
    "        .attr(\"width\", 0)\n",
    "        .attr(\"height\", width > 767 ? 20 : 10)\n",
    "        .attr(\"x\", 100)\n",
    "        .attr(\"y\", 10)\n",
    "        .style(\"fill\", color)\n",
    "        .transition()\n",
    "        .duration(500)\n",
    "        .attr(\"x\", function(d) {\n",
    "            return d > 0 ? 100 : 100 - wScale(-d);\n",
    "        })\n",
    "        .attr(\"width\", function(d) {\n",
    "            return d > 0 ? wScale(d) : wScale(-d);\n",
    "        });\n",
    "    detailsBars.append(\"text\")\n",
    "        .text(function(d) {\n",
    "            return (d > 0 ? \"\" : \"Rep \") +\n",
    "                fmt(d > 0 ? d : -d) +\n",
    "                (d > 0 ? \" Dem\" : \"\");\n",
    "        })\n",
    "        .attr(\"dx\", function(d) {\n",
    "            return d > 0 ? 5 : -5;\n",
    "        })\n",
    "        .attr(\"dy\", 24)\n",
    "        .attr(\"x\", 100)\n",
    "        .style(\"text-anchor\", function(d) {\n",
    "            return d > 0 ? \"start\" : \"end\";\n",
    "        })\n",
    "        .transition()\n",
    "        .duration(500)\n",
    "        .attr(\"x\", function(d) {\n",
    "            return d > 0 ? 100 + wScale(d) : 100 - wScale(-d);\n",
    "        });\n",
    "\n",
    "\n",
    "\n",
    "    // The legend\n",
    "    svg.append(\"g\")\n",
    "        .attr(\"class\", \"legend\")\n",
    "        .attr(\"transform\",\n",
    "            width > 767 ?\n",
    "            \"translate(\" + (width - margin.right - 150) + \",100)\" :\n",
    "            \"translate(\" + (width / 2 - 100) + \",\" + (height - 120) + \")\"\n",
    "        );\n",
    "\n",
    "    var legendLinear = d3.legendColor()\n",
    "        // .shapeWidth(30)\n",
    "        .cells(7)\n",
    "        .orient(width > 767 ? \"vertical\" : \"horizontal\")\n",
    "        .title(\"Diferencia\")\n",
    "        .labels([\n",
    "            \" 100.00% Dem\",\n",
    "            \"  66.67%\",\n",
    "            \"  33.33%\",\n",
    "            \"   0.00%\",\n",
    "            \"  33.33%\",\n",
    "            \"  66.67%\",\n",
    "            \" 100.00% Rep\",\n",
    "        ].reverse())\n",
    "        .labelFormat(fmt)\n",
    "        .ascending(true)\n",
    "        .labelAlign(\"end\")\n",
    "        .scale(color);\n",
    "\n",
    "    svg.select(\".legend\")\n",
    "        .call(legendLinear);\n",
    "\n",
    "    // When clicked, zoom in\n",
    "    function clicked(d) {\n",
    "        updateDetails(d);\n",
    "        var x, y, k;\n",
    "\n",
    "        // Compute centroid of the selected path\n",
    "        if (d && centered !== d) {\n",
    "            // if (d) {\n",
    "            var centroid = path.centroid(d);\n",
    "            x = centroid[0];\n",
    "            y = centroid[1];\n",
    "            // k = zoom.scaleExtent()[1];\n",
    "            k = 10;\n",
    "            centered = d;\n",
    "        }\n",
    "        else {\n",
    "            x = width / 2;\n",
    "            y = height / 2;\n",
    "            k = 1;\n",
    "            centered = null;\n",
    "        }\n",
    "\n",
    "\n",
    "\n",
    "        // Manually Zoom\n",
    "        svg.transition()\n",
    "            .duration(750)\n",
    "            .call(zoom.transform, d3.zoomIdentity\n",
    "                .translate(width / 2, height / 2)\n",
    "                .scale(k)\n",
    "                .translate(-x, -y));\n",
    "    }\n",
    "\n",
    "    function updateDetails(d) {\n",
    "\n",
    "        var data = [0.4978, -0.5021],\n",
    "            name = \"Difference \" + fmt(data[0] + data[1]),\n",
    "            state,\n",
    "            county,\n",
    "            city;\n",
    "            \n",
    "        if (d) {\n",
    "            city = dictCities[d.id];\n",
    "            if (city) {\n",
    "                county = city['county_name'];\n",
    "                state = city['state_abbr'];\n",
    "                data = [city[\"per_dem\"], -city[\"per_gop\"]];\n",
    "                name = county + ', ' + state + \" Difference: \" + fmt(data[0] + data[1]);\n",
    "            }\n",
    "        }\n",
    "        // console.log(data);\n",
    "        // console.log(name);\n",
    "        var detailsBars = details_layer\n",
    "            .selectAll(\".bar\")\n",
    "            .data(data);\n",
    "\n",
    "        detailsBars.select(\"rect\")\n",
    "            .transition()\n",
    "            .duration(500)\n",
    "            .attr(\"x\", function(d) {\n",
    "                return d > 0 ? 100 : 100 - wScale(-d);\n",
    "            })\n",
    "            .attr(\"width\", function(d) {\n",
    "                return d > 0 ? wScale(d) : wScale(-d);\n",
    "            })\n",
    "            .style(\"fill\", color);\n",
    "\n",
    "        detailsBars.select(\"text\")\n",
    "            .text(function(d) {\n",
    "                return (d > 0 ? \"\" : \"Rep \") +\n",
    "                    fmt(d > 0 ? d : -d) +\n",
    "                    (d > 0 ? \" Dem\" : \"\")\n",
    "            })\n",
    "            .transition()\n",
    "            .duration(500)\n",
    "            .attr(\"x\", function(d) {\n",
    "                return d > 0 ? 100 + wScale(d) : 100 - wScale(-d);\n",
    "            })\n",
    "\n",
    "\n",
    "        details_layer.select(\"#cityLegend\").text(name);\n",
    "\n",
    "    }\n",
    "}\n",
    "\n",
    "d3.queue()\n",
    "    .defer(d3.json, \"https://raw.githubusercontent.com/john-guerra/US_Elections_Results/master/us.json\")\n",
    "    .defer(d3.csv, \"https://raw.githubusercontent.com/tonmcg/US_Elections_Results/master/2016_US_County_Level_Presidential_Results.csv\")\n",
    "    .await(ready);\n",
    "    \n",
    "});"
   ]
  },
  {
   "cell_type": "code",
   "execution_count": null,
   "metadata": {
    "collapsed": true
   },
   "outputs": [],
   "source": []
  }
 ],
 "metadata": {
  "anaconda-cloud": {},
  "kernelspec": {
   "display_name": "Python 2",
   "language": "python",
   "name": "python2"
  },
  "language_info": {
   "codemirror_mode": {
    "name": "ipython",
    "version": 2
   },
   "file_extension": ".py",
   "mimetype": "text/x-python",
   "name": "python",
   "nbconvert_exporter": "python",
   "pygments_lexer": "ipython2",
   "version": "2.7.13"
  }
 },
 "nbformat": 4,
 "nbformat_minor": 1
}
